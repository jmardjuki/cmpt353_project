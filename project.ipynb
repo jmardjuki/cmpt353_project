{
 "cells": [
  {
   "cell_type": "markdown",
   "metadata": {},
   "source": [
    "# What Makes a Movie Succesful"
   ]
  },
  {
   "cell_type": "code",
   "execution_count": 1,
   "metadata": {},
   "outputs": [],
   "source": [
    "import pandas as pd\n",
    "import numpy as np\n",
    "import matplotlib.pyplot as plt\n",
    "from scipy import stats"
   ]
  },
  {
   "cell_type": "code",
   "execution_count": 2,
   "metadata": {},
   "outputs": [],
   "source": [
    "wikidata_df = pd.read_json(\"./data/wikidata-movies.json.gz\", lines=True)\n",
    "genres_df = pd.read_json(\"./data/genres.json.gz\", lines=True)\n",
    "omdb_df = pd.read_json(\"./data/omdb-data.json.gz\", lines=True)\n",
    "rotten_df = pd.read_json(\"./data/rotten-tomatoes.json.gz\", lines=True)"
   ]
  },
  {
   "cell_type": "markdown",
   "metadata": {},
   "source": [
    "## Successful?\n",
    "Do the various criteria for success (critic reviews, audience reviews, profit/loss) correlate with each other? Is there something you can say about better or worse kinds of “success”?"
   ]
  },
  {
   "cell_type": "code",
   "execution_count": 3,
   "metadata": {},
   "outputs": [],
   "source": [
    "# Scalarize to percent\n",
    "rotten_df = rotten_df.dropna() #!Is dropping na actually a good idea?\n",
    "rotten_df['audience_average'] = rotten_df['audience_average']/5*100\n",
    "rotten_df['critic_average'] = rotten_df['critic_average']/10*100"
   ]
  },
  {
   "cell_type": "code",
   "execution_count": 4,
   "metadata": {},
   "outputs": [],
   "source": [
    "# Try to normalize\n",
    "rotten_audAvg_Norm = np.square(rotten_df['audience_average'])\n",
    "rotten_audPercent_Norm = np.square(rotten_df['audience_percent'])\n",
    "rotten_critAvg_Norm = np.square(rotten_df['critic_average'])\n",
    "rotten_critPercent_Norm = np.square(rotten_df['critic_percent'])"
   ]
  },
  {
   "cell_type": "code",
   "execution_count": 9,
   "metadata": {},
   "outputs": [
    {
     "data": {
      "text/plain": [
       "([array([2.000e+00, 3.000e+00, 4.900e+01, 1.740e+02, 2.360e+02, 1.124e+03,\n",
       "         1.542e+03, 2.164e+03, 2.377e+03, 2.623e+03, 2.542e+03, 1.078e+03,\n",
       "         1.620e+03, 5.470e+02, 5.250e+02, 7.300e+01, 4.100e+01, 6.000e+00,\n",
       "         5.000e+00, 1.000e+00]),\n",
       "  array([ 524., 1003., 1148., 1233., 1050., 1145., 1101.,  983., 1024.,\n",
       "          826., 1213.,  955.,  944.,  904.,  898.,  802.,  578.,  261.,\n",
       "          116.,   24.]),\n",
       "  array([1.120e+02, 5.110e+02, 9.180e+02, 1.238e+03, 1.282e+03, 1.610e+03,\n",
       "         1.834e+03, 1.615e+03, 1.629e+03, 1.427e+03, 1.563e+03, 9.730e+02,\n",
       "         8.100e+02, 5.460e+02, 3.120e+02, 2.000e+02, 1.200e+02, 2.200e+01,\n",
       "         9.000e+00, 1.000e+00]),\n",
       "  array([2250.,  980.,  859.,  895.,  481.,  784.,  681.,  755.,  753.,\n",
       "          428.,  785.,  571.,  844.,  823.,  720.,  831.,  823.,  516.,\n",
       "          612., 1341.])],\n",
       " array([    0.,   500.,  1000.,  1500.,  2000.,  2500.,  3000.,  3500.,\n",
       "         4000.,  4500.,  5000.,  5500.,  6000.,  6500.,  7000.,  7500.,\n",
       "         8000.,  8500.,  9000.,  9500., 10000.]),\n",
       " <a list of 4 Lists of Patches objects>)"
      ]
     },
     "execution_count": 9,
     "metadata": {},
     "output_type": "execute_result"
    },
    {
     "data": {
      "image/png": "[encoded data removed]",
      "text/plain": [
       "<Figure size 720x360 with 1 Axes>"
      ]
     },
     "metadata": {},
     "output_type": "display_data"
    }
   ],
   "source": [
    "plt.figure(figsize=(10, 5))\n",
    "plt.hist((rotten_audAvg_Norm, rotten_audPercent_Norm, rotten_critAvg_Norm, rotten_critPercent_Norm), alpha=0.5, bins=20)"
   ]
  },
  {
   "cell_type": "code",
   "execution_count": 8,
   "metadata": {},
   "outputs": [
    {
     "name": "stdout",
     "output_type": "stream",
     "text": [
      "F_onewayResult(statistic=463.3124568813631, pvalue=5.492105415957375e-298)\n"
     ]
    }
   ],
   "source": [
    "anova = stats.f_oneway(rotten_df['audience_average'], rotten_df['audience_percent'], rotten_df['critic_average'], rotten_df['critic_percent'])\n",
    "print(anova)"
   ]
  },
  {
   "cell_type": "code",
   "execution_count": null,
   "metadata": {},
   "outputs": [],
   "source": []
  }
 ],
 "metadata": {
  "kernelspec": {
   "display_name": "Python 3",
   "language": "python",
   "name": "python3"
  },
  "language_info": {
   "codemirror_mode": {
    "name": "ipython",
    "version": 3
   },
   "file_extension": ".py",
   "mimetype": "text/x-python",
   "name": "python",
   "nbconvert_exporter": "python",
   "pygments_lexer": "ipython3",
   "version": "3.5.2"
  }
 },
 "nbformat": 4,
 "nbformat_minor": 2
}
